{
 "cells": [
  {
   "cell_type": "markdown",
   "metadata": {},
   "source": [
    "{% def title Another %}\n",
    "{% def date 2021-12-06 %}\n",
    "{% def tags bar %}\n",
    "\n",
    "{% template blog_post.html title date tags %}\n",
    "\n",
    "The tags are the same as a regular markdown file"
   ]
  },
  {
   "cell_type": "markdown",
   "metadata": {},
   "source": [
    "All markdown blocks are displayed in separate paragraps"
   ]
  },
  {
   "cell_type": "code",
   "execution_count": 1,
   "metadata": {},
   "outputs": [
    {
     "name": "stdout",
     "output_type": "stream",
     "text": [
      "If you execute this block, then the output will be displayed\n"
     ]
    }
   ],
   "source": [
    "print(\"If you execute this block, then the output will be displayed\")"
   ]
  },
  {
   "cell_type": "code",
   "execution_count": null,
   "metadata": {},
   "outputs": [],
   "source": [
    "print(\"otherwise only code block will be displayed\")"
   ]
  },
  {
   "cell_type": "code",
   "execution_count": 2,
   "metadata": {},
   "outputs": [
    {
     "name": "stdout",
     "output_type": "stream",
     "text": [
      "some output\n"
     ]
    }
   ],
   "source": [
    "# {% out_only %}\n",
    "# unless you use out_only tag. in which case only the output will be displayed\n",
    "# remember to execute or else this block will be ignored\n",
    "print(\"some output but no code\")"
   ]
  },
  {
   "cell_type": "code",
   "execution_count": null,
   "metadata": {},
   "outputs": [],
   "source": []
  }
 ],
 "metadata": {
  "kernelspec": {
   "display_name": "venv",
   "language": "python",
   "name": "python3"
  },
  "language_info": {
   "codemirror_mode": {
    "name": "ipython",
    "version": 3
   },
   "file_extension": ".py",
   "mimetype": "text/x-python",
   "name": "python",
   "nbconvert_exporter": "python",
   "pygments_lexer": "ipython3",
   "version": "3.10.6"
  },
  "orig_nbformat": 4
 },
 "nbformat": 4,
 "nbformat_minor": 2
}
