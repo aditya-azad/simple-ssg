{
    "cells": [
        {
            "cell_type": "markdown",
            "metadata": {},
            "source": [
                "{% def title Jupyter Post %}\n",
                "{% def date 2021-12-06 %}\n",
                "{% def tags bar %}\n",
                "\n",
                "{% template blog_post.html title date tags %}\n",
                "\n",
                "The tags are the same as a regular markdown file"
            ]
        },
        {
            "cell_type": "markdown",
            "metadata": {},
            "source": [
                "All markdown blocks are displayed in separate paragraphs"
            ]
        },
        {
            "cell_type": "markdown",
            "metadata": {},
            "source": [
                "Another paragraph\n",
                "\n"
            ]
        },
        {
            "cell_type": "markdown",
            "metadata": {},
            "source": [
                "Another paragraph\n"
            ]
        },
        {
            "cell_type": "markdown",
            "metadata": {},
            "source": [
                "Another paragraph"
            ]
        },
        {
            "cell_type": "code",
            "execution_count": 2,
            "metadata": {},
            "outputs": [
                {
                    "name": "stdout",
                    "output_type": "stream",
                    "text": [
                        "1: If you execute this block, then the output will be displayed\n",
                        "2: If you execute this block, then the output will be displayed\n",
                        "3: If you execute this block, then the output will be displayed\n",
                        "4: If you execute this block, then the output will be displayed\n",
                        "5: If you execute this block, then the output will be displayed\n",
                        "6: If you execute this block, then the output will be displayed\n",
                        "7: If you execute this block, then the output will be displayed\n",
                        "8: If you execute this block, then the output will be displayed\n",
                        "9: If you execute this block, then the output will be displayed\n",
                        "10: If you execute this block, then the output will be displayed\n"
                    ]
                }
            ],
            "source": [
                "for i in range(1, 11):\n",
                "    print(f\"{i}: If you execute this block, then the output will be displayed\")"
            ]
        },
        {
            "cell_type": "code",
            "execution_count": null,
            "metadata": {},
            "outputs": [],
            "source": [
                "print(\"otherwise only code block will be displayed\")"
            ]
        },
        {
            "cell_type": "markdown",
            "metadata": {},
            "source": [
                "## This is a heading\n",
                "\n",
                "Suppose you want just want to print some output but not the code cell that created the output. Just add `out_only` tag to the code block to only display the output"
            ]
        },
        {
            "cell_type": "code",
            "execution_count": 1,
            "metadata": {},
            "outputs": [
                {
                    "name": "stdout",
                    "output_type": "stream",
                    "text": [
                        "some output but no code\n"
                    ]
                }
            ],
            "source": [
                "# {% out_only %}\n",
                "print(\"some output but no code\")"
            ]
        }
    ],
    "metadata": {
        "kernelspec": {
            "display_name": "venv",
            "language": "python",
            "name": "python3"
        },
        "language_info": {
            "codemirror_mode": {
                "name": "ipython",
                "version": 3
            },
            "file_extension": ".py",
            "mimetype": "text/x-python",
            "name": "python",
            "nbconvert_exporter": "python",
            "pygments_lexer": "ipython3",
            "version": "3.10.6"
        },
        "orig_nbformat": 4
    },
    "nbformat": 4,
    "nbformat_minor": 2
}
